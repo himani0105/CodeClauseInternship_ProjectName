{
 "cells": [
  {
   "cell_type": "code",
   "execution_count": 6,
   "id": "6373cf92",
   "metadata": {},
   "outputs": [],
   "source": [
    "import pandas as pd\n",
    "import torch\n",
    "from transformers import GPT2LMHeadModel, GPT2Tokenizer\n",
    "import tkinter as tk\n",
    "from tkinter import scrolledtext"
   ]
  },
  {
   "cell_type": "code",
   "execution_count": 7,
   "id": "04421111",
   "metadata": {},
   "outputs": [],
   "source": [
    "df = pd.read_csv('train.csv')"
   ]
  },
  {
   "cell_type": "code",
   "execution_count": 9,
   "id": "735f1363",
   "metadata": {},
   "outputs": [],
   "source": [
    "text_corpus = ' '.join(df['Quotes'].str.lower())"
   ]
  },
  {
   "cell_type": "code",
   "execution_count": 10,
   "id": "83fbf557",
   "metadata": {},
   "outputs": [
    {
     "data": {
      "application/vnd.jupyter.widget-view+json": {
       "model_id": "4c684663edd54450b0ba18e474d4d996",
       "version_major": 2,
       "version_minor": 0
      },
      "text/plain": [
       "vocab.json:   0%|          | 0.00/1.04M [00:00<?, ?B/s]"
      ]
     },
     "metadata": {},
     "output_type": "display_data"
    },
    {
     "name": "stderr",
     "output_type": "stream",
     "text": [
      "C:\\Users\\HP\\anaconda3\\envs\\orange\\lib\\site-packages\\huggingface_hub\\file_download.py:149: UserWarning: `huggingface_hub` cache-system uses symlinks by default to efficiently store duplicated files but your machine does not support them in C:\\Users\\HP\\.cache\\huggingface\\hub\\models--gpt2. Caching files will still work but in a degraded version that might require more space on your disk. This warning can be disabled by setting the `HF_HUB_DISABLE_SYMLINKS_WARNING` environment variable. For more details, see https://huggingface.co/docs/huggingface_hub/how-to-cache#limitations.\n",
      "To support symlinks on Windows, you either need to activate Developer Mode or to run Python as an administrator. In order to see activate developer mode, see this article: https://docs.microsoft.com/en-us/windows/apps/get-started/enable-your-device-for-development\n",
      "  warnings.warn(message)\n"
     ]
    },
    {
     "data": {
      "application/vnd.jupyter.widget-view+json": {
       "model_id": "56509a99789a461ab38016c327d13ade",
       "version_major": 2,
       "version_minor": 0
      },
      "text/plain": [
       "merges.txt:   0%|          | 0.00/456k [00:00<?, ?B/s]"
      ]
     },
     "metadata": {},
     "output_type": "display_data"
    },
    {
     "data": {
      "application/vnd.jupyter.widget-view+json": {
       "model_id": "7aa0fda9d71e49e5bffbf5f0320d1352",
       "version_major": 2,
       "version_minor": 0
      },
      "text/plain": [
       "tokenizer.json:   0%|          | 0.00/1.36M [00:00<?, ?B/s]"
      ]
     },
     "metadata": {},
     "output_type": "display_data"
    },
    {
     "data": {
      "application/vnd.jupyter.widget-view+json": {
       "model_id": "3a3b50cfb28c4b54bbba7f033119a6d1",
       "version_major": 2,
       "version_minor": 0
      },
      "text/plain": [
       "config.json:   0%|          | 0.00/665 [00:00<?, ?B/s]"
      ]
     },
     "metadata": {},
     "output_type": "display_data"
    },
    {
     "data": {
      "application/vnd.jupyter.widget-view+json": {
       "model_id": "b87076204dcc440dbae4141f2ee75688",
       "version_major": 2,
       "version_minor": 0
      },
      "text/plain": [
       "model.safetensors:   0%|          | 0.00/548M [00:00<?, ?B/s]"
      ]
     },
     "metadata": {},
     "output_type": "display_data"
    },
    {
     "data": {
      "application/vnd.jupyter.widget-view+json": {
       "model_id": "72185d1624e149d8933f5de6cfc47255",
       "version_major": 2,
       "version_minor": 0
      },
      "text/plain": [
       "generation_config.json:   0%|          | 0.00/124 [00:00<?, ?B/s]"
      ]
     },
     "metadata": {},
     "output_type": "display_data"
    }
   ],
   "source": [
    "model_name = \"gpt2\"\n",
    "tokenizer = GPT2Tokenizer.from_pretrained(model_name)\n",
    "model = GPT2LMHeadModel.from_pretrained(model_name)"
   ]
  },
  {
   "cell_type": "code",
   "execution_count": 18,
   "id": "1108da8f",
   "metadata": {},
   "outputs": [],
   "source": [
    "app = tk.Tk()\n",
    "app.title(\"Next Word Prediction\")\n",
    "\n",
    "text_label = tk.Label(app, text=\"Enter Text:\")\n",
    "text_label.pack()\n",
    "\n",
    "text_input = scrolledtext.ScrolledText(app, wrap=tk.WORD, width=40, height=5)\n",
    "text_input.pack()\n",
    "\n",
    "result_label = tk.Label(app, text=\"Next Word Prediction:\")\n",
    "result_label.pack()\n",
    "\n",
    "def predict_next_word():\n",
    "    user_input = text_input.get(\"1.0\", tk.END).lower()\n",
    "    \n",
    "    # Tokenize the input\n",
    "    input_ids = tokenizer.encode(user_input, return_tensors=\"pt\")\n",
    "    \n",
    "    # Generate predictions without sample-based parameters\n",
    "    with torch.no_grad():\n",
    "        predictions = model.generate(input_ids, \n",
    "                                     max_length=50, \n",
    "                                     num_return_sequences=1, \n",
    "                                     no_repeat_ngram_size=2,\n",
    "                                     pad_token_id=tokenizer.eos_token_id,\n",
    "                                     length_penalty=1.0)\n",
    "\n",
    "    # Decode the predicted sequence\n",
    "    predicted_text = tokenizer.decode(predictions[0], skip_special_tokens=True)\n",
    "    \n",
    "    # Extract the next word\n",
    "    next_word = predicted_text.split()[-1]\n",
    "    \n",
    "    result_label.config(text=f\"Next Word Prediction: {next_word}\")\n",
    "\n",
    "predict_button = tk.Button(app, text=\"Predict Next Word\", command=predict_next_word)\n",
    "predict_button.pack()\n",
    "\n",
    "app.mainloop()"
   ]
  }
 ],
 "metadata": {
  "kernelspec": {
   "display_name": "Python 3 (ipykernel)",
   "language": "python",
   "name": "python3"
  },
  "language_info": {
   "codemirror_mode": {
    "name": "ipython",
    "version": 3
   },
   "file_extension": ".py",
   "mimetype": "text/x-python",
   "name": "python",
   "nbconvert_exporter": "python",
   "pygments_lexer": "ipython3",
   "version": "3.9.17"
  }
 },
 "nbformat": 4,
 "nbformat_minor": 5
}
