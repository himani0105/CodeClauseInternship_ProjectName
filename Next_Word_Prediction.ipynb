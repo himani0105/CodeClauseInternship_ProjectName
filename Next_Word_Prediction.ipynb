{
 "cells": [
  {
   "cell_type": "code",
   "execution_count": 36,
   "id": "05cc47a0",
   "metadata": {},
   "outputs": [],
   "source": [
    "import pandas as pd\n",
    "import tkinter as tk\n",
    "from tkinter import scrolledtext, StringVar"
   ]
  },
  {
   "cell_type": "code",
   "execution_count": 37,
   "id": "835e16c2",
   "metadata": {},
   "outputs": [],
   "source": [
    "df = pd.read_csv('train.csv')"
   ]
  },
  {
   "cell_type": "code",
   "execution_count": 38,
   "id": "4ad42a50",
   "metadata": {},
   "outputs": [],
   "source": [
    "df['text'] = df['Quotes'].str.lower()\n",
    "words = ' '.join(df['text']).split()"
   ]
  },
  {
   "cell_type": "code",
   "execution_count": 39,
   "id": "3df7260a",
   "metadata": {},
   "outputs": [],
   "source": [
    "word_pairs = [(words[i], words[i + 1]) for i in range(len(words) - 1)]\n",
    "word_pairs_df = pd.DataFrame(word_pairs, columns=['word1', 'word2'])\n",
    "word_pair_counts = word_pairs_df.groupby(['word1', 'word2']).size().reset_index(name='count')"
   ]
  },
  {
   "cell_type": "code",
   "execution_count": 43,
   "id": "5d1c77de",
   "metadata": {},
   "outputs": [],
   "source": [
    "app = tk.Tk()\n",
    "app.title(\"Next Word Prediction\")\n",
    "\n",
    "text_label = tk.Label(app, text=\"Enter Text:\")\n",
    "text_label.pack()\n",
    "\n",
    "text_input = scrolledtext.ScrolledText(app, wrap=tk.WORD, width=40, height=5)\n",
    "text_input.pack()\n",
    "\n",
    "result_label = tk.Label(app, text=\"Next Word Prediction:\")\n",
    "result_label.pack()\n",
    "\n",
    "def predict_next_word():\n",
    "    user_input = text_input.get(\"1.0\", tk.END).lower().split()\n",
    "    if user_input:\n",
    "        last_word = user_input[-1]\n",
    "        predictions = word_pair_counts[word_pair_counts['word1'] == last_word].nlargest(3, 'count')['word2'].tolist()\n",
    "        result_label.config(text=f\"Next Word Prediction: {', '.join(predictions)}\")\n",
    "\n",
    "predict_button = tk.Button(app, text=\"Predict Next Word\", command=predict_next_word)\n",
    "predict_button.pack()\n",
    "\n",
    "app.mainloop()\n"
   ]
  }
 ],
 "metadata": {
  "kernelspec": {
   "display_name": "Python 3 (ipykernel)",
   "language": "python",
   "name": "python3"
  },
  "language_info": {
   "codemirror_mode": {
    "name": "ipython",
    "version": 3
   },
   "file_extension": ".py",
   "mimetype": "text/x-python",
   "name": "python",
   "nbconvert_exporter": "python",
   "pygments_lexer": "ipython3",
   "version": "3.9.17"
  }
 },
 "nbformat": 4,
 "nbformat_minor": 5
}
